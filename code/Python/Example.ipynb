{
 "cells": [
  {
   "cell_type": "markdown",
   "metadata": {},
   "source": [
    "# Import necessary libraries for data handling"
   ]
  },
  {
   "cell_type": "code",
   "execution_count": 1,
   "metadata": {},
   "outputs": [
    {
     "name": "stdout",
     "output_type": "stream",
     "text": [
      "\n",
      "Syncopy 2023.5\n",
      "\n",
      "See https://syncopy.org for the online documentation.\n",
      "For bug reports etc. please send an email to syncopy@esi-frankfurt.de\n",
      "\n"
     ]
    },
    {
     "name": "stderr",
     "output_type": "stream",
     "text": [
      "/cs/home/partodm/conda/alensdk310/lib/python3.10/site-packages/tqdm/auto.py:21: TqdmWarning: IProgress not found. Please update jupyter and ipywidgets. See https://ipywidgets.readthedocs.io/en/stable/user_install.html\n",
      "  from .autonotebook import tqdm as notebook_tqdm\n"
     ]
    },
    {
     "name": "stdout",
     "output_type": "stream",
     "text": [
      "Logging to log directory '/cs/home/partodm/.spy/logs'.\n",
      "Temporary storage directory set to '/cs/home/partodm/.spy/tmp_storage'.\n",
      "\n"
     ]
    }
   ],
   "source": [
    "import os\n",
    "import numpy as np\n",
    "import pandas as pd\n",
    "from scipy.io import savemat\n",
    "from tqdm import tqdm, trange  # For displaying progress bars\n",
    "from copy import deepcopy\n",
    "import syncopy as spy"
   ]
  },
  {
   "cell_type": "markdown",
   "metadata": {},
   "source": [
    "# Import Allen SDK for accessing the EcephysProjectCache (electrophysiology data)"
   ]
  },
  {
   "cell_type": "code",
   "execution_count": 3,
   "metadata": {},
   "outputs": [],
   "source": [
    "from allensdk.brain_observatory.ecephys.ecephys_project_cache import EcephysProjectCache"
   ]
  },
  {
   "cell_type": "markdown",
   "metadata": {},
   "source": [
    "# Specify the path for the JSON manifest file (required by Allen SDK for file management)\n",
    "# The data in the JSON file determines where downloaded data will be stored. See Allen SDK"
   ]
  },
  {
   "cell_type": "code",
   "execution_count": 4,
   "metadata": {},
   "outputs": [],
   "source": [
    "manifest_path = os.path.join(os.path.curdir, 'manifest.json')\n",
    "cache = EcephysProjectCache.from_warehouse(manifest=manifest_path)\n",
    "sessions = cache.get_session_table()"
   ]
  },
  {
   "cell_type": "markdown",
   "metadata": {},
   "source": [
    "# Define data parameters for the analysis"
   ]
  },
  {
   "cell_type": "code",
   "execution_count": 5,
   "metadata": {},
   "outputs": [],
   "source": [
    "stimType = \"flashes\"  # 'flashes' 'drifting_gratings'  'gabors'\n",
    "bipolar = 1  # 1:bipolar derivation   0:unipolar\n",
    "sample_freq = 1250\n",
    "sample_freq_rawdata = 30_000"
   ]
  },
  {
   "cell_type": "markdown",
   "metadata": {},
   "source": [
    "# Select a session to analyze based on its index in the session table"
   ]
  },
  {
   "cell_type": "code",
   "execution_count": 6,
   "metadata": {},
   "outputs": [],
   "source": [
    "sesnum = 7\n",
    "ses_id = sessions.index.values[sesnum]\n",
    "session = cache.get_session_data(ses_id)\n",
    "probes = cache.get_probes()"
   ]
  },
  {
   "cell_type": "markdown",
   "metadata": {},
   "source": [
    "# Retrieve presentation times for the specified stimulus type (Cut trials)"
   ]
  },
  {
   "cell_type": "code",
   "execution_count": 7,
   "metadata": {},
   "outputs": [
    {
     "name": "stdout",
     "output_type": "stream",
     "text": [
      "['spontaneous' 'gabors' 'flashes' 'drifting_gratings' 'natural_movie_three'\n",
      " 'natural_movie_one' 'static_gratings' 'natural_scenes']\n"
     ]
    }
   ],
   "source": [
    "print(pd.unique(session.stimulus_presentations.stimulus_name))\n",
    "presentation_table = session.stimulus_presentations[\n",
    "    session.stimulus_presentations.stimulus_name == stimType]\n",
    "presentation_times = presentation_table.start_time.values\n",
    "presentation_ids = presentation_table.index.values\n",
    "win = np.arange(-.25, .25, 1 / sample_freq) # Define time window around each stimulus presentation\n",
    "stim_lbl = session.get_stimulus_table([stimType])['color'] # Get stimulus labels\n",
    "prob_range = session.probes.index.values # Define range of probes in the session"
   ]
  },
  {
   "cell_type": "markdown",
   "metadata": {},
   "source": [
    "# Read Allen data and save the spikes in Syncopy file format"
   ]
  },
  {
   "cell_type": "code",
   "execution_count": 9,
   "metadata": {},
   "outputs": [],
   "source": [
    "def read_spy_spikes():\n",
    "    \"\"\"\n",
    "    Function to extract spike data from Allen SDK, process it, and save it in Syncopy file format.\n",
    "    \"\"\"\n",
    "    print(\"Creating Syncopy spike data file...\")\n",
    "\n",
    "    offset = -0.25 * sample_freq  # Offset in samples for each trial\n",
    "\n",
    "    # first assemble units of interest based on firing rate \n",
    "    units_oi = []\n",
    "    for prob_ind in tqdm(prob_range):\n",
    "        units_oi += list(session.units[(session.units.probe_id == prob_ind) &\n",
    "                                       (session.units.firing_rate > 10) &\n",
    "                                       (session.units.nn_hit_rate > 0.95)].index)\n",
    "\n",
    "    # Loop over trials for each stimulus presentation\n",
    "    spy_spikes = []\n",
    "    trldef_rows = []\n",
    "    active_units = []\n",
    "    for stim_time in tqdm(presentation_times):\n",
    "\n",
    "        start = stim_time - 0.25\n",
    "        stop = stim_time + 0.25\n",
    "\n",
    "        # 2d array with columns: samples, channel, unit.\n",
    "        # Channel is not given/interesting for spike data and has to be 0.\n",
    "        channel_id = 0\n",
    "\n",
    "        spy_trl = []\n",
    "\n",
    "        for unit_idx, unit_id in enumerate(units_oi):\n",
    "\n",
    "            unit_spike_times = session.spike_times[unit_id]\n",
    "            # index time window\n",
    "            bool_index = (unit_spike_times > start) & (unit_spike_times < stop)\n",
    "            # relevant spikes in samples\n",
    "            unit_spike_samples = (\n",
    "                unit_spike_times[bool_index] + start) * sample_freq\n",
    "\n",
    "            # Skip units without spikes in this window\n",
    "            if unit_spike_samples.size == 0:\n",
    "                continue\n",
    "\n",
    "            active_units.append(unit_id)\n",
    "\n",
    "            spy_trl.append(np.array([(sp_sample, channel_id, unit_idx) for\n",
    "                                     sp_sample in unit_spike_samples], dtype=np.int64))\n",
    "\n",
    "        spy_trl = np.vstack(spy_trl)\n",
    "        spy_trl = spy_trl[spy_trl[:, 0].argsort()] # Sort spike samples by time\n",
    "        spy_spikes.append(spy_trl)\n",
    "\n",
    "        trldef_rows.append([spy_trl[0, 0], spy_trl[-1, 0], offset])\n",
    "\n",
    "    trldef = np.vstack(trldef_rows)\n",
    "    spy_spikes = spy.SpikeData(data=spy_spikes, samplerate=sample_freq)\n",
    "\n",
    "    spy_spikes.trialdefinition = trldef\n",
    "    # unit labels have to be strings\n",
    "    spy_spikes.unit = list(map(str, set(active_units)))\n",
    "\n",
    "    # Add custom metadata: raw sampling rate.\n",
    "    spy_spikes.info['fsample_raw'] = sample_freq_rawdata\n",
    "\n",
    "    # Finally save to disc.\n",
    "    spy_spikes.save(os.path.join(\n",
    "        os.path.curdir, 'allen_spike'), overwrite=True)\n",
    "    # return Spikes"
   ]
  },
  {
   "cell_type": "markdown",
   "metadata": {},
   "source": [
    "# Read Allen data and save the LFP data in Syncopy file format"
   ]
  },
  {
   "cell_type": "code",
   "execution_count": 10,
   "metadata": {},
   "outputs": [],
   "source": [
    "def read_spy_lfp():\n",
    "    \"\"\"\n",
    "    Function to extract LFP data, process it for each stimulus presentation, and save it in Syncopy file format.\n",
    "    \"\"\"\n",
    "    print(\"Creating Syncopy LFP data file...\")\n",
    "\n",
    "    loc = []            # Channel locations\n",
    "    ds = []             # LFP data for each trial\n",
    "    twin = []           # Time windows for each trial\n",
    "    lfps = []\n",
    "    lfp_channel_id = [] # Channel IDs for bipolar or unipolar data\n",
    "\n",
    "    # Attempt to retrieve LFP data for each probe\n",
    "    for prob_ind in tqdm(prob_range):\n",
    "        try:\n",
    "            lfps.append(session.get_lfp(prob_ind))\n",
    "        except:\n",
    "            print(f\"No LFP in this electrode:{prob_range}\")\n",
    "            continue\n",
    "\n",
    "    for tr in trange(len(presentation_times)):\n",
    "        lfp_buf = [] # Buffer to store LFP data for the current trial\n",
    "\n",
    "        # Append LFP of all channels\n",
    "        for _, lfp in enumerate(lfps):\n",
    "            ch_range = lfp.channel.values\n",
    "            for z in range(len(ch_range)):\n",
    "                channel_ids = ch_range[z]\n",
    "                try:\n",
    "                    # Retrieve bipolar or unipolar LFP data depending on the parameter set\n",
    "                    if bipolar == 1:\n",
    "                        lfp_tmp = (lfp.sel(time=(presentation_times[tr]+win), method='nearest', channel=ch_range[z]))-(\n",
    "                            lfp.sel(time=(presentation_times[tr]+win), method='nearest', channel=ch_range[z+1]))\n",
    "                        loc_tmp = (\n",
    "                            session.channels.ecephys_structure_acronym[channel_ids])\n",
    "                    elif bipolar == 0:\n",
    "                        lfp_tmp = (lfp.sel(\n",
    "                            time=(presentation_times[tr]+win), method='nearest', channel=channel_ids))\n",
    "                        loc_tmp = (\n",
    "                            session.channels.ecephys_structure_acronym[channel_ids])\n",
    "\n",
    "                    if tr == 0:\n",
    "                        loc.append(loc_tmp)\n",
    "                        if bipolar == 1:\n",
    "                            lfp_channel_id.append([ch_range[z], ch_range[z+1]])\n",
    "                        elif bipolar == 0:\n",
    "                            lfp_channel_id.append(channel_ids)\n",
    "                    lfp_buf.append(lfp_tmp)\n",
    "                    lfp_buf[-1] = np.nan_to_num(\n",
    "                        lfp_buf[-1].values.reshape(1, -1))\n",
    "                except:\n",
    "                    pass\n",
    "\n",
    "        ds.append(np.concatenate(lfp_buf, axis=0).T)\n",
    "        twin.append(deepcopy(win))\n",
    "\n",
    "    # Put data into Syncopy objects.\n",
    "    lfp = spy.AnalogData(data=ds, samplerate=sample_freq)\n",
    "    lfp.info['Label'] = loc\n",
    "    lfp.info['stim_lbl'] = list(stim_lbl)\n",
    "    lfp.info['Twin'] = [arr.tolist() for arr in twin]\n",
    "\n",
    "    # Finally save to disc.\n",
    "    lfp.save(os.path.join(os.path.curdir, 'allen_lfp'), overwrite=True)\n",
    "    # return LFP"
   ]
  },
  {
   "cell_type": "markdown",
   "metadata": {},
   "source": [
    "# Read Allen data and save data in Fieldtrip-compatible (MATLAB) format"
   ]
  },
  {
   "cell_type": "code",
   "execution_count": 11,
   "metadata": {},
   "outputs": [
    {
     "name": "stdout",
     "output_type": "stream",
     "text": [
      "Creating Syncopy spike data file...\n"
     ]
    },
    {
     "name": "stderr",
     "output_type": "stream",
     "text": [
      "100%|██████████| 6/6 [00:16<00:00,  2.80s/it]\n",
      "100%|██████████| 150/150 [00:13<00:00, 11.39it/s]\n"
     ]
    },
    {
     "name": "stdout",
     "output_type": "stream",
     "text": [
      "Creating Syncopy LFP data file...\n"
     ]
    },
    {
     "name": "stderr",
     "output_type": "stream",
     "text": [
      "100%|██████████| 6/6 [02:56<00:00, 29.34s/it]\n",
      "100%|██████████| 150/150 [50:22<00:00, 20.15s/it]\n"
     ]
    },
    {
     "name": "stdout",
     "output_type": "stream",
     "text": [
      "Creating Fieldtrip data file...\n"
     ]
    },
    {
     "name": "stderr",
     "output_type": "stream",
     "text": [
      "100%|██████████| 6/6 [02:56<00:00, 29.38s/it]\n",
      "  1%|          | 1/150 [00:28<1:10:11, 28.27s/it]"
     ]
    },
    {
     "name": "stdout",
     "output_type": "stream",
     "text": [
      "(625, 417)\n"
     ]
    },
    {
     "name": "stderr",
     "output_type": "stream",
     "text": [
      "  1%|▏         | 2/150 [00:48<57:55, 23.48s/it]  "
     ]
    },
    {
     "name": "stdout",
     "output_type": "stream",
     "text": [
      "(625, 417)\n"
     ]
    },
    {
     "name": "stderr",
     "output_type": "stream",
     "text": [
      "  2%|▏         | 3/150 [01:08<53:49, 21.97s/it]"
     ]
    },
    {
     "name": "stdout",
     "output_type": "stream",
     "text": [
      "(625, 417)\n"
     ]
    },
    {
     "name": "stderr",
     "output_type": "stream",
     "text": [
      "  3%|▎         | 4/150 [01:28<51:46, 21.28s/it]"
     ]
    },
    {
     "name": "stdout",
     "output_type": "stream",
     "text": [
      "(625, 417)\n"
     ]
    },
    {
     "name": "stderr",
     "output_type": "stream",
     "text": [
      "  3%|▎         | 5/150 [01:48<50:28, 20.88s/it]"
     ]
    },
    {
     "name": "stdout",
     "output_type": "stream",
     "text": [
      "(625, 417)\n"
     ]
    },
    {
     "name": "stderr",
     "output_type": "stream",
     "text": [
      "  4%|▍         | 6/150 [02:09<49:31, 20.64s/it]"
     ]
    },
    {
     "name": "stdout",
     "output_type": "stream",
     "text": [
      "(625, 417)\n"
     ]
    },
    {
     "name": "stderr",
     "output_type": "stream",
     "text": [
      "  5%|▍         | 7/150 [02:29<48:50, 20.50s/it]"
     ]
    },
    {
     "name": "stdout",
     "output_type": "stream",
     "text": [
      "(625, 417)\n"
     ]
    },
    {
     "name": "stderr",
     "output_type": "stream",
     "text": [
      "  5%|▌         | 8/150 [02:49<48:16, 20.40s/it]"
     ]
    },
    {
     "name": "stdout",
     "output_type": "stream",
     "text": [
      "(625, 417)\n"
     ]
    },
    {
     "name": "stderr",
     "output_type": "stream",
     "text": [
      "  6%|▌         | 9/150 [03:09<47:48, 20.34s/it]"
     ]
    },
    {
     "name": "stdout",
     "output_type": "stream",
     "text": [
      "(625, 417)\n"
     ]
    },
    {
     "name": "stderr",
     "output_type": "stream",
     "text": [
      "  7%|▋         | 10/150 [03:29<47:22, 20.30s/it]"
     ]
    },
    {
     "name": "stdout",
     "output_type": "stream",
     "text": [
      "(625, 417)\n"
     ]
    },
    {
     "name": "stderr",
     "output_type": "stream",
     "text": [
      "  7%|▋         | 11/150 [03:50<46:59, 20.28s/it]"
     ]
    },
    {
     "name": "stdout",
     "output_type": "stream",
     "text": [
      "(625, 417)\n"
     ]
    },
    {
     "name": "stderr",
     "output_type": "stream",
     "text": [
      "  8%|▊         | 12/150 [04:10<46:35, 20.26s/it]"
     ]
    },
    {
     "name": "stdout",
     "output_type": "stream",
     "text": [
      "(625, 417)\n"
     ]
    },
    {
     "name": "stderr",
     "output_type": "stream",
     "text": [
      "  9%|▊         | 13/150 [04:30<46:17, 20.27s/it]"
     ]
    },
    {
     "name": "stdout",
     "output_type": "stream",
     "text": [
      "(625, 417)\n"
     ]
    },
    {
     "name": "stderr",
     "output_type": "stream",
     "text": [
      "  9%|▉         | 14/150 [04:51<46:05, 20.34s/it]"
     ]
    },
    {
     "name": "stdout",
     "output_type": "stream",
     "text": [
      "(625, 417)\n"
     ]
    },
    {
     "name": "stderr",
     "output_type": "stream",
     "text": [
      " 10%|█         | 15/150 [05:11<45:54, 20.40s/it]"
     ]
    },
    {
     "name": "stdout",
     "output_type": "stream",
     "text": [
      "(625, 417)\n"
     ]
    },
    {
     "name": "stderr",
     "output_type": "stream",
     "text": [
      " 11%|█         | 16/150 [05:32<45:38, 20.44s/it]"
     ]
    },
    {
     "name": "stdout",
     "output_type": "stream",
     "text": [
      "(625, 417)\n"
     ]
    },
    {
     "name": "stderr",
     "output_type": "stream",
     "text": [
      " 11%|█▏        | 17/150 [05:53<45:31, 20.54s/it]"
     ]
    },
    {
     "name": "stdout",
     "output_type": "stream",
     "text": [
      "(625, 417)\n"
     ]
    },
    {
     "name": "stderr",
     "output_type": "stream",
     "text": [
      " 12%|█▏        | 18/150 [06:13<45:10, 20.54s/it]"
     ]
    },
    {
     "name": "stdout",
     "output_type": "stream",
     "text": [
      "(625, 417)\n"
     ]
    },
    {
     "name": "stderr",
     "output_type": "stream",
     "text": [
      " 13%|█▎        | 19/150 [06:34<44:48, 20.52s/it]"
     ]
    },
    {
     "name": "stdout",
     "output_type": "stream",
     "text": [
      "(625, 417)\n"
     ]
    },
    {
     "name": "stderr",
     "output_type": "stream",
     "text": [
      " 13%|█▎        | 20/150 [06:54<44:34, 20.57s/it]"
     ]
    },
    {
     "name": "stdout",
     "output_type": "stream",
     "text": [
      "(625, 417)\n"
     ]
    },
    {
     "name": "stderr",
     "output_type": "stream",
     "text": [
      " 14%|█▍        | 21/150 [07:15<44:12, 20.56s/it]"
     ]
    },
    {
     "name": "stdout",
     "output_type": "stream",
     "text": [
      "(625, 417)\n"
     ]
    },
    {
     "name": "stderr",
     "output_type": "stream",
     "text": [
      " 15%|█▍        | 22/150 [07:35<43:49, 20.54s/it]"
     ]
    },
    {
     "name": "stdout",
     "output_type": "stream",
     "text": [
      "(625, 417)\n"
     ]
    },
    {
     "name": "stderr",
     "output_type": "stream",
     "text": [
      " 15%|█▌        | 23/150 [07:56<43:23, 20.50s/it]"
     ]
    },
    {
     "name": "stdout",
     "output_type": "stream",
     "text": [
      "(625, 417)\n"
     ]
    },
    {
     "name": "stderr",
     "output_type": "stream",
     "text": [
      " 16%|█▌        | 24/150 [08:16<42:54, 20.44s/it]"
     ]
    },
    {
     "name": "stdout",
     "output_type": "stream",
     "text": [
      "(625, 417)\n"
     ]
    },
    {
     "name": "stderr",
     "output_type": "stream",
     "text": [
      " 17%|█▋        | 25/150 [08:36<42:29, 20.40s/it]"
     ]
    },
    {
     "name": "stdout",
     "output_type": "stream",
     "text": [
      "(625, 417)\n"
     ]
    },
    {
     "name": "stderr",
     "output_type": "stream",
     "text": [
      " 17%|█▋        | 26/150 [08:57<42:07, 20.39s/it]"
     ]
    },
    {
     "name": "stdout",
     "output_type": "stream",
     "text": [
      "(625, 417)\n"
     ]
    },
    {
     "name": "stderr",
     "output_type": "stream",
     "text": [
      " 18%|█▊        | 27/150 [09:17<41:43, 20.35s/it]"
     ]
    },
    {
     "name": "stdout",
     "output_type": "stream",
     "text": [
      "(625, 417)\n"
     ]
    },
    {
     "name": "stderr",
     "output_type": "stream",
     "text": [
      " 19%|█▊        | 28/150 [09:37<41:20, 20.33s/it]"
     ]
    },
    {
     "name": "stdout",
     "output_type": "stream",
     "text": [
      "(625, 417)\n"
     ]
    },
    {
     "name": "stderr",
     "output_type": "stream",
     "text": [
      " 19%|█▉        | 29/150 [09:58<41:03, 20.36s/it]"
     ]
    },
    {
     "name": "stdout",
     "output_type": "stream",
     "text": [
      "(625, 417)\n"
     ]
    },
    {
     "name": "stderr",
     "output_type": "stream",
     "text": [
      " 20%|██        | 30/150 [10:18<40:44, 20.37s/it]"
     ]
    },
    {
     "name": "stdout",
     "output_type": "stream",
     "text": [
      "(625, 417)\n"
     ]
    },
    {
     "name": "stderr",
     "output_type": "stream",
     "text": [
      " 21%|██        | 31/150 [10:38<40:24, 20.38s/it]"
     ]
    },
    {
     "name": "stdout",
     "output_type": "stream",
     "text": [
      "(625, 417)\n"
     ]
    },
    {
     "name": "stderr",
     "output_type": "stream",
     "text": [
      " 21%|██▏       | 32/150 [10:59<40:06, 20.40s/it]"
     ]
    },
    {
     "name": "stdout",
     "output_type": "stream",
     "text": [
      "(625, 417)\n"
     ]
    },
    {
     "name": "stderr",
     "output_type": "stream",
     "text": [
      " 22%|██▏       | 33/150 [11:19<39:54, 20.46s/it]"
     ]
    },
    {
     "name": "stdout",
     "output_type": "stream",
     "text": [
      "(625, 417)\n"
     ]
    },
    {
     "name": "stderr",
     "output_type": "stream",
     "text": [
      " 23%|██▎       | 34/150 [11:40<39:27, 20.41s/it]"
     ]
    },
    {
     "name": "stdout",
     "output_type": "stream",
     "text": [
      "(625, 417)\n"
     ]
    },
    {
     "name": "stderr",
     "output_type": "stream",
     "text": [
      " 23%|██▎       | 35/150 [12:00<39:04, 20.39s/it]"
     ]
    },
    {
     "name": "stdout",
     "output_type": "stream",
     "text": [
      "(625, 417)\n"
     ]
    },
    {
     "name": "stderr",
     "output_type": "stream",
     "text": [
      " 24%|██▍       | 36/150 [12:20<38:40, 20.36s/it]"
     ]
    },
    {
     "name": "stdout",
     "output_type": "stream",
     "text": [
      "(625, 417)\n"
     ]
    },
    {
     "name": "stderr",
     "output_type": "stream",
     "text": [
      " 25%|██▍       | 37/150 [12:41<38:16, 20.32s/it]"
     ]
    },
    {
     "name": "stdout",
     "output_type": "stream",
     "text": [
      "(625, 417)\n"
     ]
    },
    {
     "name": "stderr",
     "output_type": "stream",
     "text": [
      " 25%|██▌       | 38/150 [13:01<37:57, 20.34s/it]"
     ]
    },
    {
     "name": "stdout",
     "output_type": "stream",
     "text": [
      "(625, 417)\n"
     ]
    },
    {
     "name": "stderr",
     "output_type": "stream",
     "text": [
      " 26%|██▌       | 39/150 [13:21<37:34, 20.31s/it]"
     ]
    },
    {
     "name": "stdout",
     "output_type": "stream",
     "text": [
      "(625, 417)\n"
     ]
    },
    {
     "name": "stderr",
     "output_type": "stream",
     "text": [
      " 27%|██▋       | 40/150 [13:42<37:13, 20.30s/it]"
     ]
    },
    {
     "name": "stdout",
     "output_type": "stream",
     "text": [
      "(625, 417)\n"
     ]
    },
    {
     "name": "stderr",
     "output_type": "stream",
     "text": [
      " 27%|██▋       | 41/150 [14:02<36:54, 20.32s/it]"
     ]
    },
    {
     "name": "stdout",
     "output_type": "stream",
     "text": [
      "(625, 417)\n"
     ]
    },
    {
     "name": "stderr",
     "output_type": "stream",
     "text": [
      " 28%|██▊       | 42/150 [14:22<36:32, 20.30s/it]"
     ]
    },
    {
     "name": "stdout",
     "output_type": "stream",
     "text": [
      "(625, 417)\n"
     ]
    },
    {
     "name": "stderr",
     "output_type": "stream",
     "text": [
      " 29%|██▊       | 43/150 [14:42<36:13, 20.31s/it]"
     ]
    },
    {
     "name": "stdout",
     "output_type": "stream",
     "text": [
      "(625, 417)\n"
     ]
    },
    {
     "name": "stderr",
     "output_type": "stream",
     "text": [
      " 29%|██▉       | 44/150 [15:03<35:53, 20.32s/it]"
     ]
    },
    {
     "name": "stdout",
     "output_type": "stream",
     "text": [
      "(625, 417)\n"
     ]
    },
    {
     "name": "stderr",
     "output_type": "stream",
     "text": [
      " 30%|███       | 45/150 [15:23<35:35, 20.33s/it]"
     ]
    },
    {
     "name": "stdout",
     "output_type": "stream",
     "text": [
      "(625, 417)\n"
     ]
    },
    {
     "name": "stderr",
     "output_type": "stream",
     "text": [
      " 31%|███       | 46/150 [15:43<35:13, 20.32s/it]"
     ]
    },
    {
     "name": "stdout",
     "output_type": "stream",
     "text": [
      "(625, 417)\n"
     ]
    },
    {
     "name": "stderr",
     "output_type": "stream",
     "text": [
      " 31%|███▏      | 47/150 [16:04<34:52, 20.32s/it]"
     ]
    },
    {
     "name": "stdout",
     "output_type": "stream",
     "text": [
      "(625, 417)\n"
     ]
    },
    {
     "name": "stderr",
     "output_type": "stream",
     "text": [
      " 32%|███▏      | 48/150 [16:24<34:31, 20.31s/it]"
     ]
    },
    {
     "name": "stdout",
     "output_type": "stream",
     "text": [
      "(625, 417)\n"
     ]
    },
    {
     "name": "stderr",
     "output_type": "stream",
     "text": [
      " 33%|███▎      | 49/150 [16:44<34:10, 20.30s/it]"
     ]
    },
    {
     "name": "stdout",
     "output_type": "stream",
     "text": [
      "(625, 417)\n"
     ]
    },
    {
     "name": "stderr",
     "output_type": "stream",
     "text": [
      " 33%|███▎      | 50/150 [17:05<33:59, 20.40s/it]"
     ]
    },
    {
     "name": "stdout",
     "output_type": "stream",
     "text": [
      "(625, 417)\n"
     ]
    },
    {
     "name": "stderr",
     "output_type": "stream",
     "text": [
      " 34%|███▍      | 51/150 [17:25<33:37, 20.38s/it]"
     ]
    },
    {
     "name": "stdout",
     "output_type": "stream",
     "text": [
      "(625, 417)\n"
     ]
    },
    {
     "name": "stderr",
     "output_type": "stream",
     "text": [
      " 35%|███▍      | 52/150 [17:46<33:15, 20.36s/it]"
     ]
    },
    {
     "name": "stdout",
     "output_type": "stream",
     "text": [
      "(625, 417)\n"
     ]
    },
    {
     "name": "stderr",
     "output_type": "stream",
     "text": [
      " 35%|███▌      | 53/150 [18:06<32:53, 20.35s/it]"
     ]
    },
    {
     "name": "stdout",
     "output_type": "stream",
     "text": [
      "(625, 417)\n"
     ]
    },
    {
     "name": "stderr",
     "output_type": "stream",
     "text": [
      " 36%|███▌      | 54/150 [18:26<32:32, 20.34s/it]"
     ]
    },
    {
     "name": "stdout",
     "output_type": "stream",
     "text": [
      "(625, 417)\n"
     ]
    },
    {
     "name": "stderr",
     "output_type": "stream",
     "text": [
      " 37%|███▋      | 55/150 [18:47<32:11, 20.33s/it]"
     ]
    },
    {
     "name": "stdout",
     "output_type": "stream",
     "text": [
      "(625, 417)\n"
     ]
    },
    {
     "name": "stderr",
     "output_type": "stream",
     "text": [
      " 37%|███▋      | 56/150 [19:07<31:51, 20.34s/it]"
     ]
    },
    {
     "name": "stdout",
     "output_type": "stream",
     "text": [
      "(625, 417)\n"
     ]
    },
    {
     "name": "stderr",
     "output_type": "stream",
     "text": [
      " 38%|███▊      | 57/150 [19:27<31:30, 20.33s/it]"
     ]
    },
    {
     "name": "stdout",
     "output_type": "stream",
     "text": [
      "(625, 417)\n"
     ]
    },
    {
     "name": "stderr",
     "output_type": "stream",
     "text": [
      " 39%|███▊      | 58/150 [19:48<31:10, 20.33s/it]"
     ]
    },
    {
     "name": "stdout",
     "output_type": "stream",
     "text": [
      "(625, 417)\n"
     ]
    },
    {
     "name": "stderr",
     "output_type": "stream",
     "text": [
      " 39%|███▉      | 59/150 [20:08<30:51, 20.34s/it]"
     ]
    },
    {
     "name": "stdout",
     "output_type": "stream",
     "text": [
      "(625, 417)\n"
     ]
    },
    {
     "name": "stderr",
     "output_type": "stream",
     "text": [
      " 40%|████      | 60/150 [20:28<30:30, 20.33s/it]"
     ]
    },
    {
     "name": "stdout",
     "output_type": "stream",
     "text": [
      "(625, 417)\n"
     ]
    },
    {
     "name": "stderr",
     "output_type": "stream",
     "text": [
      " 41%|████      | 61/150 [20:49<30:34, 20.61s/it]"
     ]
    },
    {
     "name": "stdout",
     "output_type": "stream",
     "text": [
      "(625, 417)\n"
     ]
    },
    {
     "name": "stderr",
     "output_type": "stream",
     "text": [
      " 41%|████▏     | 62/150 [21:11<30:31, 20.81s/it]"
     ]
    },
    {
     "name": "stdout",
     "output_type": "stream",
     "text": [
      "(625, 417)\n"
     ]
    },
    {
     "name": "stderr",
     "output_type": "stream",
     "text": [
      " 42%|████▏     | 63/150 [21:32<30:20, 20.93s/it]"
     ]
    },
    {
     "name": "stdout",
     "output_type": "stream",
     "text": [
      "(625, 417)\n"
     ]
    },
    {
     "name": "stderr",
     "output_type": "stream",
     "text": [
      " 43%|████▎     | 64/150 [21:53<29:50, 20.82s/it]"
     ]
    },
    {
     "name": "stdout",
     "output_type": "stream",
     "text": [
      "(625, 417)\n"
     ]
    },
    {
     "name": "stderr",
     "output_type": "stream",
     "text": [
      " 43%|████▎     | 65/150 [22:13<29:17, 20.68s/it]"
     ]
    },
    {
     "name": "stdout",
     "output_type": "stream",
     "text": [
      "(625, 417)\n"
     ]
    },
    {
     "name": "stderr",
     "output_type": "stream",
     "text": [
      " 44%|████▍     | 66/150 [22:33<28:48, 20.57s/it]"
     ]
    },
    {
     "name": "stdout",
     "output_type": "stream",
     "text": [
      "(625, 417)\n"
     ]
    },
    {
     "name": "stderr",
     "output_type": "stream",
     "text": [
      " 45%|████▍     | 67/150 [22:54<28:21, 20.49s/it]"
     ]
    },
    {
     "name": "stdout",
     "output_type": "stream",
     "text": [
      "(625, 417)\n"
     ]
    },
    {
     "name": "stderr",
     "output_type": "stream",
     "text": [
      " 45%|████▌     | 68/150 [23:14<27:56, 20.44s/it]"
     ]
    },
    {
     "name": "stdout",
     "output_type": "stream",
     "text": [
      "(625, 417)\n"
     ]
    },
    {
     "name": "stderr",
     "output_type": "stream",
     "text": [
      " 46%|████▌     | 69/150 [23:34<27:33, 20.41s/it]"
     ]
    },
    {
     "name": "stdout",
     "output_type": "stream",
     "text": [
      "(625, 417)\n"
     ]
    },
    {
     "name": "stderr",
     "output_type": "stream",
     "text": [
      " 47%|████▋     | 70/150 [23:54<27:10, 20.38s/it]"
     ]
    },
    {
     "name": "stdout",
     "output_type": "stream",
     "text": [
      "(625, 417)\n"
     ]
    },
    {
     "name": "stderr",
     "output_type": "stream",
     "text": [
      " 47%|████▋     | 71/150 [24:15<26:49, 20.37s/it]"
     ]
    },
    {
     "name": "stdout",
     "output_type": "stream",
     "text": [
      "(625, 417)\n"
     ]
    },
    {
     "name": "stderr",
     "output_type": "stream",
     "text": [
      " 48%|████▊     | 72/150 [24:35<26:26, 20.33s/it]"
     ]
    },
    {
     "name": "stdout",
     "output_type": "stream",
     "text": [
      "(625, 417)\n"
     ]
    },
    {
     "name": "stderr",
     "output_type": "stream",
     "text": [
      " 49%|████▊     | 73/150 [24:55<26:05, 20.33s/it]"
     ]
    },
    {
     "name": "stdout",
     "output_type": "stream",
     "text": [
      "(625, 417)\n"
     ]
    },
    {
     "name": "stderr",
     "output_type": "stream",
     "text": [
      " 49%|████▉     | 74/150 [25:16<25:45, 20.33s/it]"
     ]
    },
    {
     "name": "stdout",
     "output_type": "stream",
     "text": [
      "(625, 417)\n"
     ]
    },
    {
     "name": "stderr",
     "output_type": "stream",
     "text": [
      " 50%|█████     | 75/150 [25:37<25:48, 20.64s/it]"
     ]
    },
    {
     "name": "stdout",
     "output_type": "stream",
     "text": [
      "(625, 417)\n"
     ]
    },
    {
     "name": "stderr",
     "output_type": "stream",
     "text": [
      " 51%|█████     | 76/150 [25:57<25:20, 20.54s/it]"
     ]
    },
    {
     "name": "stdout",
     "output_type": "stream",
     "text": [
      "(625, 417)\n"
     ]
    },
    {
     "name": "stderr",
     "output_type": "stream",
     "text": [
      " 51%|█████▏    | 77/150 [26:18<24:55, 20.49s/it]"
     ]
    },
    {
     "name": "stdout",
     "output_type": "stream",
     "text": [
      "(625, 417)\n"
     ]
    },
    {
     "name": "stderr",
     "output_type": "stream",
     "text": [
      " 52%|█████▏    | 78/150 [26:38<24:34, 20.47s/it]"
     ]
    },
    {
     "name": "stdout",
     "output_type": "stream",
     "text": [
      "(625, 417)\n"
     ]
    },
    {
     "name": "stderr",
     "output_type": "stream",
     "text": [
      " 53%|█████▎    | 79/150 [26:59<24:11, 20.44s/it]"
     ]
    },
    {
     "name": "stdout",
     "output_type": "stream",
     "text": [
      "(625, 417)\n"
     ]
    },
    {
     "name": "stderr",
     "output_type": "stream",
     "text": [
      " 53%|█████▎    | 80/150 [27:19<23:48, 20.41s/it]"
     ]
    },
    {
     "name": "stdout",
     "output_type": "stream",
     "text": [
      "(625, 417)\n"
     ]
    },
    {
     "name": "stderr",
     "output_type": "stream",
     "text": [
      " 54%|█████▍    | 81/150 [27:41<24:00, 20.87s/it]"
     ]
    },
    {
     "name": "stdout",
     "output_type": "stream",
     "text": [
      "(625, 417)\n"
     ]
    },
    {
     "name": "stderr",
     "output_type": "stream",
     "text": [
      " 55%|█████▍    | 82/150 [28:03<24:03, 21.23s/it]"
     ]
    },
    {
     "name": "stdout",
     "output_type": "stream",
     "text": [
      "(625, 417)\n"
     ]
    },
    {
     "name": "stderr",
     "output_type": "stream",
     "text": [
      " 55%|█████▌    | 83/150 [28:23<23:25, 20.98s/it]"
     ]
    },
    {
     "name": "stdout",
     "output_type": "stream",
     "text": [
      "(625, 417)\n"
     ]
    },
    {
     "name": "stderr",
     "output_type": "stream",
     "text": [
      " 56%|█████▌    | 84/150 [28:44<22:51, 20.78s/it]"
     ]
    },
    {
     "name": "stdout",
     "output_type": "stream",
     "text": [
      "(625, 417)\n"
     ]
    },
    {
     "name": "stderr",
     "output_type": "stream",
     "text": [
      " 57%|█████▋    | 85/150 [29:04<22:21, 20.64s/it]"
     ]
    },
    {
     "name": "stdout",
     "output_type": "stream",
     "text": [
      "(625, 417)\n"
     ]
    },
    {
     "name": "stderr",
     "output_type": "stream",
     "text": [
      " 57%|█████▋    | 86/150 [29:24<21:54, 20.54s/it]"
     ]
    },
    {
     "name": "stdout",
     "output_type": "stream",
     "text": [
      "(625, 417)\n"
     ]
    },
    {
     "name": "stderr",
     "output_type": "stream",
     "text": [
      " 58%|█████▊    | 87/150 [29:45<21:28, 20.46s/it]"
     ]
    },
    {
     "name": "stdout",
     "output_type": "stream",
     "text": [
      "(625, 417)\n"
     ]
    },
    {
     "name": "stderr",
     "output_type": "stream",
     "text": [
      " 59%|█████▊    | 88/150 [30:05<21:04, 20.40s/it]"
     ]
    },
    {
     "name": "stdout",
     "output_type": "stream",
     "text": [
      "(625, 417)\n"
     ]
    },
    {
     "name": "stderr",
     "output_type": "stream",
     "text": [
      " 59%|█████▉    | 89/150 [30:25<20:41, 20.36s/it]"
     ]
    },
    {
     "name": "stdout",
     "output_type": "stream",
     "text": [
      "(625, 417)\n"
     ]
    },
    {
     "name": "stderr",
     "output_type": "stream",
     "text": [
      " 60%|██████    | 90/150 [30:45<20:20, 20.34s/it]"
     ]
    },
    {
     "name": "stdout",
     "output_type": "stream",
     "text": [
      "(625, 417)\n"
     ]
    },
    {
     "name": "stderr",
     "output_type": "stream",
     "text": [
      " 61%|██████    | 91/150 [31:06<19:57, 20.30s/it]"
     ]
    },
    {
     "name": "stdout",
     "output_type": "stream",
     "text": [
      "(625, 417)\n"
     ]
    },
    {
     "name": "stderr",
     "output_type": "stream",
     "text": [
      " 61%|██████▏   | 92/150 [31:26<19:37, 20.30s/it]"
     ]
    },
    {
     "name": "stdout",
     "output_type": "stream",
     "text": [
      "(625, 417)\n"
     ]
    },
    {
     "name": "stderr",
     "output_type": "stream",
     "text": [
      " 62%|██████▏   | 93/150 [31:46<19:16, 20.29s/it]"
     ]
    },
    {
     "name": "stdout",
     "output_type": "stream",
     "text": [
      "(625, 417)\n"
     ]
    },
    {
     "name": "stderr",
     "output_type": "stream",
     "text": [
      " 63%|██████▎   | 94/150 [32:06<18:56, 20.29s/it]"
     ]
    },
    {
     "name": "stdout",
     "output_type": "stream",
     "text": [
      "(625, 417)\n"
     ]
    },
    {
     "name": "stderr",
     "output_type": "stream",
     "text": [
      " 63%|██████▎   | 95/150 [32:27<18:36, 20.29s/it]"
     ]
    },
    {
     "name": "stdout",
     "output_type": "stream",
     "text": [
      "(625, 417)\n"
     ]
    },
    {
     "name": "stderr",
     "output_type": "stream",
     "text": [
      " 64%|██████▍   | 96/150 [32:47<18:15, 20.30s/it]"
     ]
    },
    {
     "name": "stdout",
     "output_type": "stream",
     "text": [
      "(625, 417)\n"
     ]
    },
    {
     "name": "stderr",
     "output_type": "stream",
     "text": [
      " 65%|██████▍   | 97/150 [33:07<17:55, 20.30s/it]"
     ]
    },
    {
     "name": "stdout",
     "output_type": "stream",
     "text": [
      "(625, 417)\n"
     ]
    },
    {
     "name": "stderr",
     "output_type": "stream",
     "text": [
      " 65%|██████▌   | 98/150 [33:28<17:35, 20.29s/it]"
     ]
    },
    {
     "name": "stdout",
     "output_type": "stream",
     "text": [
      "(625, 417)\n"
     ]
    },
    {
     "name": "stderr",
     "output_type": "stream",
     "text": [
      " 66%|██████▌   | 99/150 [33:48<17:15, 20.30s/it]"
     ]
    },
    {
     "name": "stdout",
     "output_type": "stream",
     "text": [
      "(625, 417)\n"
     ]
    },
    {
     "name": "stderr",
     "output_type": "stream",
     "text": [
      " 67%|██████▋   | 100/150 [34:08<16:54, 20.29s/it]"
     ]
    },
    {
     "name": "stdout",
     "output_type": "stream",
     "text": [
      "(625, 417)\n"
     ]
    },
    {
     "name": "stderr",
     "output_type": "stream",
     "text": [
      " 67%|██████▋   | 101/150 [34:28<16:34, 20.29s/it]"
     ]
    },
    {
     "name": "stdout",
     "output_type": "stream",
     "text": [
      "(625, 417)\n"
     ]
    },
    {
     "name": "stderr",
     "output_type": "stream",
     "text": [
      " 68%|██████▊   | 102/150 [34:49<16:14, 20.29s/it]"
     ]
    },
    {
     "name": "stdout",
     "output_type": "stream",
     "text": [
      "(625, 417)\n"
     ]
    },
    {
     "name": "stderr",
     "output_type": "stream",
     "text": [
      " 69%|██████▊   | 103/150 [35:09<15:53, 20.29s/it]"
     ]
    },
    {
     "name": "stdout",
     "output_type": "stream",
     "text": [
      "(625, 417)\n"
     ]
    },
    {
     "name": "stderr",
     "output_type": "stream",
     "text": [
      " 69%|██████▉   | 104/150 [35:29<15:33, 20.30s/it]"
     ]
    },
    {
     "name": "stdout",
     "output_type": "stream",
     "text": [
      "(625, 417)\n"
     ]
    },
    {
     "name": "stderr",
     "output_type": "stream",
     "text": [
      " 70%|███████   | 105/150 [35:50<15:13, 20.30s/it]"
     ]
    },
    {
     "name": "stdout",
     "output_type": "stream",
     "text": [
      "(625, 417)\n"
     ]
    },
    {
     "name": "stderr",
     "output_type": "stream",
     "text": [
      " 71%|███████   | 106/150 [36:10<14:53, 20.30s/it]"
     ]
    },
    {
     "name": "stdout",
     "output_type": "stream",
     "text": [
      "(625, 417)\n"
     ]
    },
    {
     "name": "stderr",
     "output_type": "stream",
     "text": [
      " 71%|███████▏  | 107/150 [36:30<14:32, 20.30s/it]"
     ]
    },
    {
     "name": "stdout",
     "output_type": "stream",
     "text": [
      "(625, 417)\n"
     ]
    },
    {
     "name": "stderr",
     "output_type": "stream",
     "text": [
      " 72%|███████▏  | 108/150 [36:51<14:12, 20.29s/it]"
     ]
    },
    {
     "name": "stdout",
     "output_type": "stream",
     "text": [
      "(625, 417)\n"
     ]
    },
    {
     "name": "stderr",
     "output_type": "stream",
     "text": [
      " 73%|███████▎  | 109/150 [37:11<13:51, 20.28s/it]"
     ]
    },
    {
     "name": "stdout",
     "output_type": "stream",
     "text": [
      "(625, 417)\n"
     ]
    },
    {
     "name": "stderr",
     "output_type": "stream",
     "text": [
      " 73%|███████▎  | 110/150 [37:31<13:30, 20.27s/it]"
     ]
    },
    {
     "name": "stdout",
     "output_type": "stream",
     "text": [
      "(625, 417)\n"
     ]
    },
    {
     "name": "stderr",
     "output_type": "stream",
     "text": [
      " 74%|███████▍  | 111/150 [37:51<13:10, 20.27s/it]"
     ]
    },
    {
     "name": "stdout",
     "output_type": "stream",
     "text": [
      "(625, 417)\n"
     ]
    },
    {
     "name": "stderr",
     "output_type": "stream",
     "text": [
      " 75%|███████▍  | 112/150 [38:12<12:50, 20.27s/it]"
     ]
    },
    {
     "name": "stdout",
     "output_type": "stream",
     "text": [
      "(625, 417)\n"
     ]
    },
    {
     "name": "stderr",
     "output_type": "stream",
     "text": [
      " 75%|███████▌  | 113/150 [38:32<12:29, 20.26s/it]"
     ]
    },
    {
     "name": "stdout",
     "output_type": "stream",
     "text": [
      "(625, 417)\n"
     ]
    },
    {
     "name": "stderr",
     "output_type": "stream",
     "text": [
      " 76%|███████▌  | 114/150 [38:52<12:09, 20.28s/it]"
     ]
    },
    {
     "name": "stdout",
     "output_type": "stream",
     "text": [
      "(625, 417)\n"
     ]
    },
    {
     "name": "stderr",
     "output_type": "stream",
     "text": [
      " 77%|███████▋  | 115/150 [39:12<11:49, 20.27s/it]"
     ]
    },
    {
     "name": "stdout",
     "output_type": "stream",
     "text": [
      "(625, 417)\n"
     ]
    },
    {
     "name": "stderr",
     "output_type": "stream",
     "text": [
      " 77%|███████▋  | 116/150 [39:33<11:28, 20.26s/it]"
     ]
    },
    {
     "name": "stdout",
     "output_type": "stream",
     "text": [
      "(625, 417)\n"
     ]
    },
    {
     "name": "stderr",
     "output_type": "stream",
     "text": [
      " 78%|███████▊  | 117/150 [39:53<11:09, 20.27s/it]"
     ]
    },
    {
     "name": "stdout",
     "output_type": "stream",
     "text": [
      "(625, 417)\n"
     ]
    },
    {
     "name": "stderr",
     "output_type": "stream",
     "text": [
      " 79%|███████▊  | 118/150 [40:13<10:48, 20.27s/it]"
     ]
    },
    {
     "name": "stdout",
     "output_type": "stream",
     "text": [
      "(625, 417)\n"
     ]
    },
    {
     "name": "stderr",
     "output_type": "stream",
     "text": [
      " 79%|███████▉  | 119/150 [40:33<10:28, 20.27s/it]"
     ]
    },
    {
     "name": "stdout",
     "output_type": "stream",
     "text": [
      "(625, 417)\n"
     ]
    },
    {
     "name": "stderr",
     "output_type": "stream",
     "text": [
      " 80%|████████  | 120/150 [40:54<10:08, 20.29s/it]"
     ]
    },
    {
     "name": "stdout",
     "output_type": "stream",
     "text": [
      "(625, 417)\n"
     ]
    },
    {
     "name": "stderr",
     "output_type": "stream",
     "text": [
      " 81%|████████  | 121/150 [41:14<09:48, 20.28s/it]"
     ]
    },
    {
     "name": "stdout",
     "output_type": "stream",
     "text": [
      "(625, 417)\n"
     ]
    },
    {
     "name": "stderr",
     "output_type": "stream",
     "text": [
      " 81%|████████▏ | 122/150 [41:34<09:27, 20.26s/it]"
     ]
    },
    {
     "name": "stdout",
     "output_type": "stream",
     "text": [
      "(625, 417)\n"
     ]
    },
    {
     "name": "stderr",
     "output_type": "stream",
     "text": [
      " 82%|████████▏ | 123/150 [41:55<09:07, 20.26s/it]"
     ]
    },
    {
     "name": "stdout",
     "output_type": "stream",
     "text": [
      "(625, 417)\n"
     ]
    },
    {
     "name": "stderr",
     "output_type": "stream",
     "text": [
      " 83%|████████▎ | 124/150 [42:15<08:46, 20.25s/it]"
     ]
    },
    {
     "name": "stdout",
     "output_type": "stream",
     "text": [
      "(625, 417)\n"
     ]
    },
    {
     "name": "stderr",
     "output_type": "stream",
     "text": [
      " 83%|████████▎ | 125/150 [42:35<08:26, 20.24s/it]"
     ]
    },
    {
     "name": "stdout",
     "output_type": "stream",
     "text": [
      "(625, 417)\n"
     ]
    },
    {
     "name": "stderr",
     "output_type": "stream",
     "text": [
      " 84%|████████▍ | 126/150 [42:55<08:06, 20.25s/it]"
     ]
    },
    {
     "name": "stdout",
     "output_type": "stream",
     "text": [
      "(625, 417)\n"
     ]
    },
    {
     "name": "stderr",
     "output_type": "stream",
     "text": [
      " 85%|████████▍ | 127/150 [43:15<07:45, 20.24s/it]"
     ]
    },
    {
     "name": "stdout",
     "output_type": "stream",
     "text": [
      "(625, 417)\n"
     ]
    },
    {
     "name": "stderr",
     "output_type": "stream",
     "text": [
      " 85%|████████▌ | 128/150 [43:36<07:25, 20.23s/it]"
     ]
    },
    {
     "name": "stdout",
     "output_type": "stream",
     "text": [
      "(625, 417)\n"
     ]
    },
    {
     "name": "stderr",
     "output_type": "stream",
     "text": [
      " 86%|████████▌ | 129/150 [43:56<07:05, 20.25s/it]"
     ]
    },
    {
     "name": "stdout",
     "output_type": "stream",
     "text": [
      "(625, 417)\n"
     ]
    },
    {
     "name": "stderr",
     "output_type": "stream",
     "text": [
      " 87%|████████▋ | 130/150 [44:16<06:45, 20.26s/it]"
     ]
    },
    {
     "name": "stdout",
     "output_type": "stream",
     "text": [
      "(625, 417)\n"
     ]
    },
    {
     "name": "stderr",
     "output_type": "stream",
     "text": [
      " 87%|████████▋ | 131/150 [44:37<06:24, 20.26s/it]"
     ]
    },
    {
     "name": "stdout",
     "output_type": "stream",
     "text": [
      "(625, 417)\n"
     ]
    },
    {
     "name": "stderr",
     "output_type": "stream",
     "text": [
      " 88%|████████▊ | 132/150 [44:57<06:04, 20.26s/it]"
     ]
    },
    {
     "name": "stdout",
     "output_type": "stream",
     "text": [
      "(625, 417)\n"
     ]
    },
    {
     "name": "stderr",
     "output_type": "stream",
     "text": [
      " 89%|████████▊ | 133/150 [45:17<05:44, 20.25s/it]"
     ]
    },
    {
     "name": "stdout",
     "output_type": "stream",
     "text": [
      "(625, 417)\n"
     ]
    },
    {
     "name": "stderr",
     "output_type": "stream",
     "text": [
      " 89%|████████▉ | 134/150 [45:37<05:24, 20.26s/it]"
     ]
    },
    {
     "name": "stdout",
     "output_type": "stream",
     "text": [
      "(625, 417)\n"
     ]
    },
    {
     "name": "stderr",
     "output_type": "stream",
     "text": [
      " 90%|█████████ | 135/150 [45:58<05:04, 20.27s/it]"
     ]
    },
    {
     "name": "stdout",
     "output_type": "stream",
     "text": [
      "(625, 417)\n"
     ]
    },
    {
     "name": "stderr",
     "output_type": "stream",
     "text": [
      " 91%|█████████ | 136/150 [46:18<04:43, 20.25s/it]"
     ]
    },
    {
     "name": "stdout",
     "output_type": "stream",
     "text": [
      "(625, 417)\n"
     ]
    },
    {
     "name": "stderr",
     "output_type": "stream",
     "text": [
      " 91%|█████████▏| 137/150 [46:38<04:23, 20.24s/it]"
     ]
    },
    {
     "name": "stdout",
     "output_type": "stream",
     "text": [
      "(625, 417)\n"
     ]
    },
    {
     "name": "stderr",
     "output_type": "stream",
     "text": [
      " 92%|█████████▏| 138/150 [46:58<04:03, 20.25s/it]"
     ]
    },
    {
     "name": "stdout",
     "output_type": "stream",
     "text": [
      "(625, 417)\n"
     ]
    },
    {
     "name": "stderr",
     "output_type": "stream",
     "text": [
      " 93%|█████████▎| 139/150 [47:18<03:42, 20.24s/it]"
     ]
    },
    {
     "name": "stdout",
     "output_type": "stream",
     "text": [
      "(625, 417)\n"
     ]
    },
    {
     "name": "stderr",
     "output_type": "stream",
     "text": [
      " 93%|█████████▎| 140/150 [47:39<03:22, 20.23s/it]"
     ]
    },
    {
     "name": "stdout",
     "output_type": "stream",
     "text": [
      "(625, 417)\n"
     ]
    },
    {
     "name": "stderr",
     "output_type": "stream",
     "text": [
      " 94%|█████████▍| 141/150 [47:59<03:02, 20.23s/it]"
     ]
    },
    {
     "name": "stdout",
     "output_type": "stream",
     "text": [
      "(625, 417)\n"
     ]
    },
    {
     "name": "stderr",
     "output_type": "stream",
     "text": [
      " 95%|█████████▍| 142/150 [48:19<02:41, 20.21s/it]"
     ]
    },
    {
     "name": "stdout",
     "output_type": "stream",
     "text": [
      "(625, 417)\n"
     ]
    },
    {
     "name": "stderr",
     "output_type": "stream",
     "text": [
      " 95%|█████████▌| 143/150 [48:39<02:21, 20.21s/it]"
     ]
    },
    {
     "name": "stdout",
     "output_type": "stream",
     "text": [
      "(625, 417)\n"
     ]
    },
    {
     "name": "stderr",
     "output_type": "stream",
     "text": [
      " 96%|█████████▌| 144/150 [49:00<02:01, 20.30s/it]"
     ]
    },
    {
     "name": "stdout",
     "output_type": "stream",
     "text": [
      "(625, 417)\n"
     ]
    },
    {
     "name": "stderr",
     "output_type": "stream",
     "text": [
      " 97%|█████████▋| 145/150 [49:20<01:41, 20.26s/it]"
     ]
    },
    {
     "name": "stdout",
     "output_type": "stream",
     "text": [
      "(625, 417)\n"
     ]
    },
    {
     "name": "stderr",
     "output_type": "stream",
     "text": [
      " 97%|█████████▋| 146/150 [49:40<01:20, 20.24s/it]"
     ]
    },
    {
     "name": "stdout",
     "output_type": "stream",
     "text": [
      "(625, 417)\n"
     ]
    },
    {
     "name": "stderr",
     "output_type": "stream",
     "text": [
      " 98%|█████████▊| 147/150 [50:00<01:00, 20.22s/it]"
     ]
    },
    {
     "name": "stdout",
     "output_type": "stream",
     "text": [
      "(625, 417)\n"
     ]
    },
    {
     "name": "stderr",
     "output_type": "stream",
     "text": [
      " 99%|█████████▊| 148/150 [50:21<00:40, 20.22s/it]"
     ]
    },
    {
     "name": "stdout",
     "output_type": "stream",
     "text": [
      "(625, 417)\n"
     ]
    },
    {
     "name": "stderr",
     "output_type": "stream",
     "text": [
      " 99%|█████████▉| 149/150 [50:41<00:20, 20.22s/it]"
     ]
    },
    {
     "name": "stdout",
     "output_type": "stream",
     "text": [
      "(625, 417)\n"
     ]
    },
    {
     "name": "stderr",
     "output_type": "stream",
     "text": [
      "100%|██████████| 150/150 [51:01<00:00, 20.41s/it]"
     ]
    },
    {
     "name": "stdout",
     "output_type": "stream",
     "text": [
      "(625, 417)\n"
     ]
    },
    {
     "name": "stderr",
     "output_type": "stream",
     "text": [
      "\n"
     ]
    }
   ],
   "source": [
    "def read_ft():\n",
    "    \"\"\"\n",
    "    Function to extract both spike and LFP data, process it, and save it in Fieldtrip-compatible format.\n",
    "    \"\"\"\n",
    "    print(\"Creating Fieldtrip data file...\")\n",
    "\n",
    "    spikes = []\n",
    "    loc = []\n",
    "    locspk = []\n",
    "    ds = []\n",
    "    ds_spk = []\n",
    "    twin = []\n",
    "    lfps = []\n",
    "    spk_channel_id = []\n",
    "    lfp_channel_id = []\n",
    "\n",
    "    fieldtrip = {\"Label\": [],  # cell(1*chNum)\n",
    "                 \"Labelspk\": [],\n",
    "                 \"chIDlfp\": [],\n",
    "                 \"chIDspk\": [],\n",
    "                 \"trialinfo\": {},  # double(trialNum*info)\n",
    "                 \"trial\": [],          # cell(1*trialNum) >> (chNum*sample)\n",
    "                 \"trial_spike\": [],\n",
    "                 \"time\": [],           # cell(1*trialNum) >> (1*sample)\n",
    "                 \"fsample\": sample_freq,        # sampling rate  1250\n",
    "                 \"fsample_raw\": sample_freq_rawdata,\n",
    "                 # 1*1 structure (other infor) >> not necessary\n",
    "                 \"cfg\": []\n",
    "                 }\n",
    "\n",
    "    # Append spikes of all channels\n",
    "    for prob_ind in tqdm(prob_range):\n",
    "        try:\n",
    "            lfps.append(session.get_lfp(prob_ind))\n",
    "        except:\n",
    "            continue\n",
    "        units_of_interest = (session.units[(session.units.probe_id == prob_ind) &\n",
    "                                           (session.units.firing_rate > 10) &\n",
    "                                           (session.units.nn_hit_rate > 0.95)])\n",
    "        for i in range(len(units_of_interest)):\n",
    "            unit_id = units_of_interest.index.values[i]\n",
    "            channel_index = units_of_interest .loc[unit_id].probe_channel_number\n",
    "            spk_channel_id.append(session.channels[(session.channels.probe_channel_number == channel_index) &\n",
    "                                                   (session.channels.probe_id == prob_ind)].index.values[0])\n",
    "            spikes.append(session.spike_times[unit_id])\n",
    "\n",
    "    for tr in trange(len(presentation_times)):\n",
    "        lfp_buf = []\n",
    "        spk_buf = []\n",
    "        for unitNum in range(len(spikes)):\n",
    "            tmp = np.zeros(len(win))\n",
    "            sp = (spikes[unitNum][(spikes[unitNum] > presentation_times[tr]+win[0]) &\n",
    "                                  (spikes[unitNum] < presentation_times[tr]+win[-1])])-(presentation_times[tr]+win[0])\n",
    "            for i in sp:\n",
    "                tmp[int(i*fieldtrip['fsample'])] = 1\n",
    "            spk_buf.append(tmp)\n",
    "            if tr == 0:\n",
    "                locspk.append(\n",
    "                    session.channels.ecephys_structure_acronym[spk_channel_id[unitNum]])\n",
    "\n",
    "        # Append LFP of all channels\n",
    "        for _, lfp in enumerate(lfps):\n",
    "            ch_range = lfp.channel.values\n",
    "            for z in range(len(ch_range)):\n",
    "                channel_ids = ch_range[z]\n",
    "                try:\n",
    "                    if bipolar == 1:\n",
    "                        lfp_tmp = (lfp.sel(time=(presentation_times[tr]+win), method='nearest', channel=ch_range[z]))-(\n",
    "                            lfp.sel(time=(presentation_times[tr]+win), method='nearest', channel=ch_range[z+1]))\n",
    "                        loc_tmp = (\n",
    "                            session.channels.ecephys_structure_acronym[channel_ids])\n",
    "                    elif bipolar == 0:\n",
    "                        lfp_tmp = (lfp.sel(\n",
    "                            time=(presentation_times[tr]+win), method='nearest', channel=channel_ids))\n",
    "                        loc_tmp = (\n",
    "                            session.channels.ecephys_structure_acronym[channel_ids])\n",
    "                    if tr == 0:\n",
    "                        loc.append(loc_tmp)\n",
    "                        if bipolar == 1:\n",
    "                            lfp_channel_id.append([ch_range[z], ch_range[z+1]])\n",
    "                        elif bipolar == 0:\n",
    "                            lfp_channel_id.append(channel_ids)\n",
    "                    lfp_buf.append(lfp_tmp)\n",
    "                    lfp_buf[-1] = np.nan_to_num(\n",
    "                        lfp_buf[-1].values.reshape(1, -1))\n",
    "                except:\n",
    "                    pass\n",
    "\n",
    "        ds.append(np.concatenate(lfp_buf, axis=0).T)\n",
    "        print(ds[-1].shape)\n",
    "        twin.append(deepcopy(win))\n",
    "        ds_spk.append(list(map(list, zip(*spk_buf))))\n",
    "    \n",
    "    # Save the data in Fieldtrip-compatible format\n",
    "    fieldtrip[\"trial\"] = ds\n",
    "    fieldtrip[\"spike\"] = ds_spk\n",
    "    fieldtrip[\"Label\"] = loc\n",
    "    fieldtrip[\"Labelspk\"] = locspk\n",
    "    fieldtrip[\"time\"] = twin\n",
    "    fieldtrip[\"trialinfo\"] = {'stim_lbl': stim_lbl,\n",
    "                              'chIDlfp': lfp_channel_id,\n",
    "                              'chIDspk': spk_channel_id\n",
    "                              }\n",
    "    fieldtrip2 = deepcopy(fieldtrip)\n",
    "    fieldtrip2[\"trialinfo\"] = []\n",
    "    fieldtrip2[\"stim_lbl\"] = list(stim_lbl)\n",
    "\n",
    "    savemat(os.path.join(os.path.curdir, 'allen_FT.mat'), fieldtrip2)\n",
    "\n",
    "# Execute the functions if running as a script\n",
    "if __name__ == \"__main__\":\n",
    "    read_spy_spikes()\n",
    "    read_spy_lfp()\n",
    "    read_ft()"
   ]
  },
  {
   "cell_type": "markdown",
   "metadata": {},
   "source": [
    "# Time-lock raster plot and peri-stimulus time histogram of spiking activity"
   ]
  },
  {
   "cell_type": "markdown",
   "metadata": {},
   "source": [
    "# Import necessary libraries for data handling"
   ]
  },
  {
   "cell_type": "code",
   "execution_count": 13,
   "metadata": {},
   "outputs": [],
   "source": [
    "import syncopy as spy\n",
    "import matplotlib.pyplot as plt"
   ]
  },
  {
   "cell_type": "markdown",
   "metadata": {},
   "source": [
    "# set parameters and load spike data"
   ]
  },
  {
   "cell_type": "code",
   "execution_count": 14,
   "metadata": {},
   "outputs": [],
   "source": [
    "plt.rcParams['pdf.fonttype'] = 42\n",
    "saveFig = 1             # 0:not savefigs  1: save figs\n",
    "spikeData = spy.load('allen_spike.spy')\n",
    "data_spk = spikeData.trials\n",
    "samplerate = 1250\n",
    "offset = -0.25 * samplerate  # Offset in samples for aligning samples to stimulus onset."
   ]
  },
  {
   "cell_type": "markdown",
   "metadata": {},
   "source": [
    "# Raster plot"
   ]
  },
  {
   "cell_type": "code",
   "execution_count": 15,
   "metadata": {},
   "outputs": [
    {
     "data": {
      "text/plain": [
       "<Figure size 640x480 with 0 Axes>"
      ]
     },
     "metadata": {},
     "output_type": "display_data"
    },
    {
     "data": {
      "image/png": "[encoded data removed]",
      "text/plain": [
       "<Figure size 640x420 with 1 Axes>"
      ]
     },
     "metadata": {},
     "output_type": "display_data"
    }
   ],
   "source": [
    "unitID = '951009344'\n",
    "unitname = 'unit30'\n",
    "plt.close('all')\n",
    "plt.figure()\n",
    "spikeData.singlepanelplot(unit=unitID)\n",
    "\n",
    "if saveFig == 1:\n",
    "    plt.savefig(\"Raster.png\")\n",
    "    plt.savefig(\"Raster.pdf\")"
   ]
  },
  {
   "cell_type": "markdown",
   "metadata": {},
   "source": [
    "# PSTH"
   ]
  },
  {
   "cell_type": "code",
   "execution_count": 16,
   "metadata": {},
   "outputs": [
    {
     "data": {
      "image/png": "[encoded data removed]",
      "text/plain": [
       "<Figure size 640x420 with 1 Axes>"
      ]
     },
     "metadata": {},
     "output_type": "display_data"
    }
   ],
   "source": [
    "cfg = spy.StructDict()\n",
    "cfg.latency = \"minperiod\"  # to avoid NaNs\n",
    "cfg.output = \"rate\"\n",
    "cfg.binsize = 0.01  # in seconds\n",
    "spike_rate = spy.spike_psth(spikeData, cfg)\n",
    "\n",
    "# Remove channel0 from channel names.\n",
    "chan_names = [old_name.split('_')[1] for old_name in spike_rate.channel]\n",
    "spike_rate.channel = chan_names\n",
    "\n",
    "# Compute the mean.\n",
    "rate_trl_mean = spy.mean(spike_rate, dim='trials')\n",
    "\n",
    "# Plot.\n",
    "fig, ax = rate_trl_mean.singlepanelplot(channel=unitname)\n",
    "ax.set_ylabel('spike rate (1/s)')\n",
    "fig.tight_layout()\n",
    "\n",
    "if saveFig == 1:\n",
    "    plt.savefig(\"PSTH.png\")\n",
    "    plt.savefig(\"PSTH.pdf\")"
   ]
  },
  {
   "cell_type": "markdown",
   "metadata": {},
   "source": [
    "# Power spectrum of LFP"
   ]
  },
  {
   "cell_type": "markdown",
   "metadata": {},
   "source": [
    "# Import necessary libraries for data handling"
   ]
  },
  {
   "cell_type": "code",
   "execution_count": 17,
   "metadata": {},
   "outputs": [],
   "source": [
    "import pickle\n",
    "import numpy as np\n",
    "import syncopy as spy\n",
    "import matplotlib.pyplot as plt"
   ]
  },
  {
   "cell_type": "markdown",
   "metadata": {},
   "source": [
    "# set parameters and load LFP data"
   ]
  },
  {
   "cell_type": "code",
   "execution_count": 18,
   "metadata": {},
   "outputs": [],
   "source": [
    "# Parameters\n",
    "plt.rcParams['pdf.fonttype'] = 42\n",
    "saveFig = 1             # 0:not savefigs  1: save figs\n",
    "freq_range = [15, 90]   # frequency range\n",
    "fs = 1250               # sampling rate\n",
    "areas = {\n",
    "    \"V1L\": ['VISl'],\n",
    "    \"V1RL\": ['VISrl'],\n",
    "    \"Thal-MG\": ['MGv'],\n",
    "    \"Thal-LP\": ['LP']\n",
    "}\n",
    "\n",
    "# Load data\n",
    "lfpdata = spy.load('allen_lfp.spy')"
   ]
  },
  {
   "cell_type": "markdown",
   "metadata": {},
   "source": [
    "# Power estimation"
   ]
  },
  {
   "cell_type": "code",
   "execution_count": 19,
   "metadata": {},
   "outputs": [
    {
     "name": "stdout",
     "output_type": "stream",
     "text": [
      "11:43:28 - WARNING: \u001b[95;95m\u001b[1mSyncopy <process_taper> WARNING: `nTaper` is only used for multi-tapering!\u001b[0m\n",
      "11:43:30 - WARNING: \u001b[95;95m\u001b[1mSyncopy <process_taper> WARNING: `nTaper` is only used for multi-tapering!\u001b[0m\n"
     ]
    },
    {
     "data": {
      "image/png": "[encoded data removed]",
      "text/plain": [
       "<Figure size 640x420 with 1 Axes>"
      ]
     },
     "metadata": {},
     "output_type": "display_data"
    }
   ],
   "source": [
    "# select stimulus and baseline epochs for analysis\n",
    "L = len(lfpdata.time[0])\n",
    "base_time = np.arange(0, np.ceil(L/2)-1, 1)\n",
    "stim_time = np.arange(np.floor(L/2), L-1, 1)\n",
    "TW_base = [lfpdata.time[0][int(base_time[0])],\n",
    "           lfpdata.time[0][int(base_time[-1])]]\n",
    "TW_stim = [lfpdata.time[0][int(stim_time[0])],\n",
    "           lfpdata.time[0][int(stim_time[-1])]]\n",
    "data_base = lfpdata.selectdata(latency=TW_base)\n",
    "data_stim = lfpdata.selectdata(latency=TW_stim)\n",
    "\n",
    "# Initialize configuration settings for Syncopy power analysis\n",
    "cfg = []\n",
    "cfg = spy.get_defaults(spy.freqanalysis)\n",
    "cfg.method = 'mtmfft'\n",
    "cfg.output = 'pow'\n",
    "cfg.pad = 1\n",
    "cfg.taper = 'hann'\n",
    "cfg.nTaper = 1\n",
    "cfg.keeptrials = True\n",
    "cfg.foilim = freq_range\n",
    "\n",
    "# Baseline correction\n",
    "psd_stim = spy.freqanalysis(cfg, data_stim)\n",
    "psd_base = spy.freqanalysis(cfg, data_base)\n",
    "psd = []\n",
    "psd2 = []\n",
    "psd = psd_stim\n",
    "powbs = (np.mean(psd_base.data, axis=0))\n",
    "psd.data = psd_stim.data/powbs\n",
    "selectch = np.arange(0, len(psd.channel), 1)\n",
    "pow = psd.data\n",
    "\n",
    "# Outlier detection\n",
    "outl = np.nanmean(np.nanmean(pow, axis=2), axis=0) > (np.nanmean(\n",
    "    np.reshape(pow, (1, -1)), axis=1)+3*np.std(np.reshape(pow, (1, -1)), axis=1))\n",
    "indices = np.where(outl)[0]\n",
    "selch = np.delete(selectch, indices)\n",
    "spy.selectdata(psd, channel=list(lfpdata.channel[selch]))\n",
    "\n",
    "cfg = spy.StructDict()\n",
    "psd2 = spy.selectdata(cfg, psd)\n",
    "\n",
    "# Grand power\n",
    "channelLBL = lfpdata.info['Label']\n",
    "GrandPSD = spy.mean(psd2, dim='trials')\n",
    "iter = 1\n",
    "Pow = []\n",
    "\n",
    "# for area_iter in areas.keys():\n",
    "area_iter = list(areas.keys())[0]\n",
    "area = []\n",
    "y = []\n",
    "y_tmp = []\n",
    "indexes = []\n",
    "for i in areas[f\"{area_iter}\"]:\n",
    "    indexes.append([index for index in range(\n",
    "        len(channelLBL)) if channelLBL[index] == i])\n",
    "chindx = list(map(int, np.concatenate(indexes)))\n",
    "\n",
    "y_tmp = spy.selectdata(GrandPSD, channel=chindx)\n",
    "y = spy.mean(y_tmp, dim='channel')\n",
    "fig, ax = y.singlepanelplot(logscale=False)\n",
    "ax.set_title(f\"ch= {area_iter}\")\n",
    "ax.set_xlabel('Frequency(Hz)')\n",
    "ax.set_ylabel('Syncopy power')\n",
    "ax.set_xlim([1, 90])\n",
    "Pow.append(np.squeeze(y.data))\n",
    "iter = iter+1\n",
    "\n",
    "if saveFig == 1:\n",
    "    plt.savefig(f'power{area_iter}.png')\n",
    "    plt.savefig(f'power{area_iter}.pdf')\n",
    "\n",
    "pickle.dump(Pow, open(f\"SavedData/PyPow.plk\", \"wb\"))"
   ]
  },
  {
   "cell_type": "markdown",
   "metadata": {},
   "source": [
    "# Connectivity analysis"
   ]
  },
  {
   "cell_type": "markdown",
   "metadata": {},
   "source": [
    "# Import necessary libraries for data handling"
   ]
  },
  {
   "cell_type": "code",
   "execution_count": 20,
   "metadata": {},
   "outputs": [],
   "source": [
    "import pickle\n",
    "import numpy as np\n",
    "import syncopy as spy\n",
    "import matplotlib.pyplot as plt\n",
    "from scipy.signal import savgol_filter"
   ]
  },
  {
   "cell_type": "markdown",
   "metadata": {},
   "source": [
    "# set parameters and load LFP data"
   ]
  },
  {
   "cell_type": "code",
   "execution_count": 21,
   "metadata": {},
   "outputs": [],
   "source": [
    "plt.rcParams['pdf.fonttype'] = 42\n",
    "cohppcGC = 1  # 1: coh  2:ppc 3:GC\n",
    "saveFig = 1             # 0:not savefigs  1: save figs\n",
    "freq_range = [1, 100]   # frequency range\n",
    "fs = 1250               # sampling rate\n",
    "areas = {\n",
    "    \"V1L\": ['VISl'],\n",
    "    \"V1RL\": ['VISrl'],\n",
    "    \"Thal-MG\": ['MGv'],\n",
    "    \"Thal-LP\": ['LP']\n",
    "}\n",
    "\n",
    "# Load data\n",
    "lfpdata = spy.load('allen_lfp.spy')\n",
    "channelLBL = lfpdata.info['Label']"
   ]
  },
  {
   "cell_type": "markdown",
   "metadata": {},
   "source": [
    "#  connectivity estimation"
   ]
  },
  {
   "cell_type": "code",
   "execution_count": 22,
   "metadata": {},
   "outputs": [
    {
     "name": "stdout",
     "output_type": "stream",
     "text": [
      "220\n",
      "220\n",
      "220\n",
      "220\n",
      "220\n",
      "220\n",
      "220\n",
      "220\n",
      "220\n",
      "220\n",
      "220\n",
      "220\n",
      "220\n",
      "220\n",
      "220\n",
      "220\n",
      "220\n",
      "220\n",
      "220\n",
      "220\n",
      "220\n",
      "220\n",
      "220\n",
      "220\n",
      "220\n",
      "220\n",
      "220\n",
      "220\n",
      "220\n",
      "220\n",
      "220\n",
      "220\n",
      "220\n",
      "220\n",
      "220\n",
      "220\n",
      "220\n",
      "220\n",
      "220\n",
      "220\n",
      "221\n",
      "221\n",
      "221\n",
      "221\n",
      "221\n",
      "221\n",
      "221\n",
      "221\n",
      "221\n",
      "221\n",
      "221\n",
      "221\n",
      "221\n",
      "221\n",
      "221\n",
      "221\n",
      "221\n",
      "221\n",
      "221\n",
      "221\n",
      "221\n",
      "221\n",
      "221\n",
      "221\n",
      "221\n",
      "221\n",
      "221\n",
      "221\n",
      "221\n",
      "221\n",
      "221\n",
      "221\n",
      "221\n",
      "221\n",
      "221\n",
      "221\n",
      "221\n",
      "221\n",
      "221\n",
      "221\n",
      "222\n",
      "222\n",
      "222\n",
      "222\n",
      "222\n",
      "222\n",
      "222\n",
      "222\n",
      "222\n",
      "222\n",
      "222\n",
      "222\n",
      "222\n",
      "222\n",
      "222\n",
      "222\n",
      "222\n",
      "222\n",
      "222\n",
      "222\n",
      "222\n",
      "222\n",
      "222\n",
      "222\n",
      "222\n",
      "222\n",
      "222\n",
      "222\n",
      "222\n",
      "222\n",
      "222\n",
      "222\n",
      "222\n",
      "222\n",
      "222\n",
      "222\n",
      "222\n",
      "222\n",
      "222\n",
      "222\n",
      "223\n",
      "223\n",
      "223\n",
      "223\n",
      "223\n",
      "223\n",
      "223\n",
      "223\n",
      "223\n",
      "223\n",
      "223\n",
      "223\n",
      "223\n",
      "223\n",
      "223\n",
      "223\n",
      "223\n",
      "223\n",
      "223\n",
      "223\n",
      "223\n",
      "223\n",
      "223\n",
      "223\n",
      "223\n",
      "223\n",
      "223\n",
      "223\n",
      "223\n",
      "223\n",
      "223\n",
      "223\n",
      "223\n",
      "223\n",
      "223\n",
      "223\n",
      "223\n",
      "223\n",
      "223\n",
      "223\n",
      "224\n",
      "224\n",
      "224\n",
      "224\n",
      "224\n",
      "224\n",
      "224\n",
      "224\n",
      "224\n",
      "224\n",
      "224\n",
      "224\n",
      "224\n",
      "224\n",
      "224\n",
      "224\n",
      "224\n",
      "224\n",
      "224\n",
      "224\n",
      "224\n",
      "224\n",
      "224\n",
      "224\n",
      "224\n",
      "224\n",
      "224\n",
      "224\n",
      "224\n",
      "224\n",
      "224\n",
      "224\n",
      "224\n",
      "224\n",
      "224\n",
      "224\n",
      "224\n",
      "224\n",
      "224\n",
      "224\n",
      "225\n",
      "225\n",
      "225\n",
      "225\n",
      "225\n",
      "225\n",
      "225\n",
      "225\n",
      "225\n",
      "225\n",
      "225\n",
      "225\n",
      "225\n",
      "225\n",
      "225\n",
      "225\n",
      "225\n",
      "225\n",
      "225\n",
      "225\n",
      "225\n",
      "225\n",
      "225\n",
      "225\n",
      "225\n",
      "225\n",
      "225\n",
      "225\n",
      "225\n",
      "225\n",
      "225\n",
      "225\n",
      "225\n",
      "225\n",
      "225\n",
      "225\n",
      "225\n",
      "225\n",
      "225\n",
      "225\n",
      "226\n",
      "226\n",
      "226\n",
      "226\n",
      "226\n",
      "226\n",
      "226\n",
      "226\n",
      "226\n",
      "226\n",
      "226\n",
      "226\n",
      "226\n",
      "226\n",
      "226\n",
      "226\n",
      "226\n",
      "226\n",
      "226\n",
      "226\n",
      "226\n",
      "226\n",
      "226\n",
      "226\n",
      "226\n",
      "226\n",
      "226\n",
      "226\n",
      "226\n",
      "226\n",
      "226\n",
      "226\n",
      "226\n",
      "226\n",
      "226\n",
      "226\n",
      "226\n",
      "226\n",
      "226\n",
      "226\n",
      "227\n",
      "227\n",
      "227\n",
      "227\n",
      "227\n",
      "227\n",
      "227\n",
      "227\n",
      "227\n",
      "227\n",
      "227\n",
      "227\n",
      "227\n",
      "227\n",
      "227\n",
      "227\n",
      "227\n",
      "227\n",
      "227\n",
      "227\n",
      "227\n",
      "227\n",
      "227\n",
      "227\n",
      "227\n",
      "227\n",
      "227\n",
      "227\n",
      "227\n",
      "227\n",
      "227\n",
      "227\n",
      "227\n",
      "227\n",
      "227\n",
      "227\n",
      "227\n",
      "227\n",
      "227\n",
      "227\n",
      "228\n",
      "228\n",
      "228\n",
      "228\n",
      "228\n",
      "228\n",
      "228\n",
      "228\n",
      "228\n",
      "228\n",
      "228\n",
      "228\n",
      "228\n",
      "228\n",
      "228\n",
      "228\n",
      "228\n",
      "228\n",
      "228\n",
      "228\n",
      "228\n",
      "228\n",
      "228\n",
      "228\n",
      "228\n",
      "228\n",
      "228\n",
      "228\n",
      "228\n",
      "228\n",
      "228\n",
      "228\n",
      "228\n",
      "228\n",
      "228\n",
      "228\n",
      "228\n",
      "228\n",
      "228\n",
      "228\n",
      "229\n",
      "229\n",
      "229\n",
      "229\n",
      "229\n",
      "229\n",
      "229\n",
      "229\n",
      "229\n",
      "229\n",
      "229\n",
      "229\n",
      "229\n",
      "229\n",
      "229\n",
      "229\n",
      "229\n",
      "229\n",
      "229\n",
      "229\n",
      "229\n",
      "229\n",
      "229\n",
      "229\n",
      "229\n",
      "229\n",
      "229\n",
      "229\n",
      "229\n",
      "229\n",
      "229\n",
      "229\n",
      "229\n",
      "229\n",
      "229\n",
      "229\n",
      "229\n",
      "229\n",
      "229\n",
      "229\n",
      "230\n",
      "230\n",
      "230\n",
      "230\n",
      "230\n",
      "230\n",
      "230\n",
      "230\n",
      "230\n",
      "230\n",
      "230\n",
      "230\n",
      "230\n",
      "230\n",
      "230\n",
      "230\n",
      "230\n",
      "230\n",
      "230\n",
      "230\n",
      "230\n",
      "230\n",
      "230\n",
      "230\n",
      "230\n",
      "230\n",
      "230\n",
      "230\n",
      "230\n",
      "230\n",
      "230\n",
      "230\n",
      "230\n",
      "230\n",
      "230\n",
      "230\n",
      "230\n",
      "230\n",
      "230\n",
      "230\n",
      "231\n",
      "231\n",
      "231\n",
      "231\n",
      "231\n",
      "231\n",
      "231\n",
      "231\n",
      "231\n",
      "231\n",
      "231\n",
      "231\n",
      "231\n",
      "231\n",
      "231\n",
      "231\n",
      "231\n",
      "231\n",
      "231\n",
      "231\n",
      "231\n",
      "231\n",
      "231\n",
      "231\n",
      "231\n",
      "231\n",
      "231\n",
      "231\n",
      "231\n",
      "231\n",
      "231\n",
      "231\n",
      "231\n",
      "231\n",
      "231\n",
      "231\n",
      "231\n",
      "231\n",
      "231\n",
      "231\n",
      "232\n",
      "232\n",
      "232\n",
      "232\n",
      "232\n",
      "232\n",
      "232\n",
      "232\n",
      "232\n",
      "232\n",
      "232\n",
      "232\n",
      "232\n",
      "232\n",
      "232\n",
      "232\n",
      "232\n",
      "232\n",
      "232\n",
      "232\n",
      "232\n",
      "232\n",
      "232\n",
      "232\n",
      "232\n",
      "232\n",
      "232\n",
      "232\n",
      "232\n",
      "232\n",
      "232\n",
      "232\n",
      "232\n",
      "232\n",
      "232\n",
      "232\n",
      "232\n",
      "232\n",
      "232\n",
      "232\n",
      "233\n",
      "233\n",
      "233\n",
      "233\n",
      "233\n",
      "233\n",
      "233\n",
      "233\n",
      "233\n",
      "233\n",
      "233\n",
      "233\n",
      "233\n",
      "233\n",
      "233\n",
      "233\n",
      "233\n",
      "233\n",
      "233\n",
      "233\n",
      "233\n",
      "233\n",
      "233\n",
      "233\n",
      "233\n",
      "233\n",
      "233\n",
      "233\n",
      "233\n",
      "233\n",
      "233\n",
      "233\n",
      "233\n",
      "233\n",
      "233\n",
      "233\n",
      "233\n",
      "233\n",
      "233\n",
      "233\n",
      "234\n",
      "234\n",
      "234\n",
      "234\n",
      "234\n",
      "234\n",
      "234\n",
      "234\n",
      "234\n",
      "234\n",
      "234\n",
      "234\n",
      "234\n",
      "234\n",
      "234\n",
      "234\n",
      "234\n",
      "234\n",
      "234\n",
      "234\n",
      "234\n",
      "234\n",
      "234\n",
      "234\n",
      "234\n",
      "234\n",
      "234\n",
      "234\n",
      "234\n",
      "234\n",
      "234\n",
      "234\n",
      "234\n",
      "234\n",
      "234\n",
      "234\n",
      "234\n",
      "234\n",
      "234\n",
      "234\n",
      "235\n",
      "235\n",
      "235\n",
      "235\n",
      "235\n",
      "235\n",
      "235\n",
      "235\n",
      "235\n",
      "235\n",
      "235\n",
      "235\n",
      "235\n",
      "235\n",
      "235\n",
      "235\n",
      "235\n",
      "235\n",
      "235\n",
      "235\n",
      "235\n",
      "235\n",
      "235\n",
      "235\n",
      "235\n",
      "235\n",
      "235\n",
      "235\n",
      "235\n",
      "235\n",
      "235\n",
      "235\n",
      "235\n",
      "235\n",
      "235\n",
      "235\n",
      "235\n",
      "235\n",
      "235\n",
      "235\n",
      "236\n",
      "236\n",
      "236\n",
      "236\n",
      "236\n",
      "236\n",
      "236\n",
      "236\n",
      "236\n",
      "236\n",
      "236\n",
      "236\n",
      "236\n",
      "236\n",
      "236\n",
      "236\n",
      "236\n",
      "236\n",
      "236\n",
      "236\n",
      "236\n",
      "236\n",
      "236\n",
      "236\n",
      "236\n",
      "236\n",
      "236\n",
      "236\n",
      "236\n",
      "236\n",
      "236\n",
      "236\n",
      "236\n",
      "236\n",
      "236\n",
      "236\n",
      "236\n",
      "236\n",
      "236\n",
      "236\n",
      "237\n",
      "237\n",
      "237\n",
      "237\n",
      "237\n",
      "237\n",
      "237\n",
      "237\n",
      "237\n",
      "237\n",
      "237\n",
      "237\n",
      "237\n",
      "237\n",
      "237\n",
      "237\n",
      "237\n",
      "237\n",
      "237\n",
      "237\n",
      "237\n",
      "237\n",
      "237\n",
      "237\n",
      "237\n",
      "237\n",
      "237\n",
      "237\n",
      "237\n",
      "237\n",
      "237\n",
      "237\n",
      "237\n",
      "237\n",
      "237\n",
      "237\n",
      "237\n",
      "237\n",
      "237\n",
      "237\n",
      "0 1\n"
     ]
    },
    {
     "data": {
      "image/png": "[encoded data removed]",
      "text/plain": [
       "<Figure size 640x480 with 1 Axes>"
      ]
     },
     "metadata": {},
     "output_type": "display_data"
    }
   ],
   "source": [
    "L = len(lfpdata.time[0]) # Length of the time series for LFP data\n",
    "stim_time = np.arange(np.floor(L/2), L-1, 1) # Define stimulus time range\n",
    "TW_stim = [lfpdata.time[0][int(stim_time[0])],\n",
    "           lfpdata.time[0][int(stim_time[-1])]] # Define time window for analysis\n",
    "data_stim_all = lfpdata.selectdata(latency=TW_stim)  # Select data within the specified time window for analysis\n",
    "\n",
    "\n",
    "# Initialize configuration settings for Syncopy connectivity analysis\n",
    "cfg = []\n",
    "cfg = spy.StructDict()\n",
    "if cohppcGC == 1:\n",
    "    cfg.method = 'coh' # Coherence method\n",
    "elif cohppcGC == 2:\n",
    "    cfg.method = 'ppc' # Pairwise phase consistency\n",
    "elif cohppcGC == 3:\n",
    "    cfg.method = 'granger'  # Granger causality\n",
    "    np.seterr(divide='ignore', invalid='ignore')\n",
    "\n",
    "cfg.pad = 1  # 'maxperlen'     # Padding applied to time series\n",
    "# Optional configuration settings for spectral analysis (tapering and smoothing)\n",
    "# cfg.taper = 'None' #'hann'  # 'dpss' 'hann'\n",
    "# cfg.nTaper = 1\n",
    "# cfg.tapsmofrq = 3\n",
    "\n",
    "# Loop over defined brain areas and their channels to compute connectivity\n",
    "area_num = list(areas.keys())\n",
    "plt.close('all')\n",
    "plt.figure()\n",
    "iter = 0\n",
    "\n",
    "# Iterate over pairs of areas (sender and receiver) to calculate connectivity metrics\n",
    "for sender in range(0, 1):  # range(len(area_num)):  # -1    # Iterate over each sender area\n",
    "    for receiver in range(1, 2):  # range(len(area_num)):  # sender+1,    # Iterate over each receiver area\n",
    "        iter = iter+1\n",
    "        if receiver > sender:\n",
    "            # For each sender and receiver pair, find and analyze relevant channels\n",
    "            for sender_ch in areas[area_num[sender]]:\n",
    "                for receiver_ch in areas[area_num[receiver]]:\n",
    "                    Con12 = []  # Storage for sender-to-receiver connectivity\n",
    "                    Con21 = []  # Storage for receiver-to-sender connectivity\n",
    "                    ch1 = []  # Lists to hold the channel indices\n",
    "                    ch2 = []\n",
    "                    ppc_val = []  # PPC and feedback PPC values\n",
    "                    ppc_val_FB = []\n",
    "                    \n",
    "                    # Find indices for the channels based on the labels\n",
    "                    for index, item in enumerate(channelLBL):\n",
    "                        if item == sender_ch:\n",
    "                            ch1.append(index)\n",
    "                        if item == receiver_ch:\n",
    "                            ch2.append(index)\n",
    "                    # ch1 = np.nonzero(channelLBL == sender_ch)[0]\n",
    "                    # ch2 = np.nonzero(channelLBL == receiver_ch)[0]\n",
    "\n",
    "                    # Iterate over channel combinations for sender and receiver\n",
    "                    for c1 in ch1:\n",
    "                        for c2 in ch2:\n",
    "                            print(c1)\n",
    "                            chsV1V2 = np.concatenate((c1, c2), axis=None)\n",
    "                            data_stim_subGroup = spy.selectdata(\n",
    "                                data_stim_all, channel=chsV1V2)\n",
    "                            \n",
    "                            # Perform connectivity analysis based on method specified in cfg\n",
    "                            ppc = spy.connectivityanalysis(\n",
    "                                data_stim_subGroup, cfg)\n",
    "                            fr = np.where((ppc.freq >= 15) &\n",
    "                                          (ppc.freq <= 90))[0]\n",
    "                            fr = fr+1\n",
    "\n",
    "                            # Identify sender and receiver indices within channel pair\n",
    "                            c11 = []\n",
    "                            c22 = []\n",
    "                            for index, item in enumerate(chsV1V2):\n",
    "                                if channelLBL[item] == sender_ch:\n",
    "                                    c11.append(index)\n",
    "                                if channelLBL[item] == receiver_ch:\n",
    "                                    c22.append(index)\n",
    "                            # ppc_val = spy.selectdata(ppc, frequency=[min(fr), max(fr)], channel_i=c11, channel_j=c22)\n",
    "                            tmp1 = ppc.data[0]\n",
    "                            tmp2 = tmp1[fr, c11, c22]\n",
    "                            Con12.append(tmp2)\n",
    "                            # # Con12.append(np.squeeze(ppc_val.data))\n",
    "\n",
    "                            # If method is Granger causality, also calculate feedback direction\n",
    "                            if cohppcGC == 3:\n",
    "                                ppc_val_FB = spy.selectdata(\n",
    "                                    ppc, frequency=[min(fr), max(fr)], channel_i=c22, channel_j=c11)\n",
    "                                # # Con21.append(np.squeeze(ppc_val_FB.data))\n",
    "                                tmp1 = []\n",
    "                                tmp2 = []\n",
    "                                tmp1 = ppc.data[0]\n",
    "                                tmp2 = tmp1[fr, c22, c11]\n",
    "                                Con21.append(tmp2)\n",
    "                    \n",
    "                    # Plotting connectivity values\n",
    "                    print(sender, receiver)\n",
    "                    plt.subplot(4, 4, iter)\n",
    "                    plt.plot(np.squeeze(np.nanmean(Con12, axis=0)), '-',\n",
    "                             lw=2, c='red', alpha=0.5)\n",
    "                    if cohppcGC == 3:\n",
    "                        plt.plot(np.squeeze(np.nanmean(Con21, axis=0)),\n",
    "                                 '--', lw=2, c='red', alpha=0.5)\n",
    "                        plt.title(\n",
    "                            f\"__{area_num[sender]}->{area_num[receiver]}\")\n",
    "                    else:\n",
    "                        plt.title(f\"{area_num[sender]},-,{area_num[receiver]}\")\n",
    "\n",
    "                    plt.xticks([], [])\n",
    "                    if iter == 1:\n",
    "                        plt.xlabel('Frequency(Hz)')\n",
    "                        if cohppcGC == 1:\n",
    "                            plt.ylabel('Coherence')\n",
    "                        elif cohppcGC == 2:\n",
    "                            plt.ylabel('PPC')\n",
    "                        elif cohppcGC == 3:\n",
    "                            plt.ylabel('GC')\n",
    "                    if saveFig == 1:\n",
    "                        plt.savefig(f'coh_ppc_gc_{cohppcGC}.png')\n",
    "                        plt.savefig(f'coh_ppc_gc_{cohppcGC}.pdf')\n",
    "\n",
    "# Compile connectivity results into a dictionary and save to a file\n",
    "Con = {'fr': fr,\n",
    "       'Con12': Con12,\n",
    "       'Con21': Con21,\n",
    "       }\n",
    "\n",
    "pickle.dump(Con, open(f\"SavedData/PyCohPpcGC{cohppcGC}.plk\", \"wb\"))"
   ]
  }
 ],
 "metadata": {
  "kernelspec": {
   "display_name": "Python 3",
   "language": "python",
   "name": "python3"
  },
  "language_info": {
   "codemirror_mode": {
    "name": "ipython",
    "version": 3
   },
   "file_extension": ".py",
   "mimetype": "text/x-python",
   "name": "python",
   "nbconvert_exporter": "python",
   "pygments_lexer": "ipython3",
   "version": "3.10.11"
  }
 },
 "nbformat": 4,
 "nbformat_minor": 2
}
